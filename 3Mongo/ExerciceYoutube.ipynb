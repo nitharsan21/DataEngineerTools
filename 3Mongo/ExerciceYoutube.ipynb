{
 "cells": [
  {
   "cell_type": "markdown",
   "metadata": {},
   "source": [
    "# Consignes\n",
    "\n",
    "Intégrer le fichier USvideos.csv qui représente un ensemble de 8000 vidéos Youtube. \n",
    "\n",
    "Merger le fichier US_category_id.json pour récupérer le nom des catégories. Il conviendra de bien spécifier l'ID du document.\n",
    "\n",
    "\n",
    "# Questions \n",
    "- 1) Récupérer toutes les vidéos de la chaîne Apple.\n",
    "- 2) Compter le nombre de catégories différentes\n",
    "- 3) Si vous ne l'avez pas déjà fait, découper les tags en listes et mettre à jour les tags de chacun des documents avec une requête update.\n",
    "- 4) Récupérer les vidéos les plus vues.\n",
    "- 5) Compter le nombre moyen de vues en fonction de la catégorie.\n",
    "- 6) Récupérer les chaines Youtube avec la plus grande moyenne de likes."
   ]
  },
  {
   "cell_type": "code",
   "execution_count": 13,
   "metadata": {},
   "outputs": [],
   "source": [
    "import pandas as pd\n",
    "import pymongo"
   ]
  },
  {
   "cell_type": "code",
   "execution_count": 14,
   "metadata": {},
   "outputs": [],
   "source": [
    "client = pymongo.MongoClient('mongo')\n",
    "database = client['exercices']\n",
    "collection = database['youtube']"
   ]
  },
  {
   "cell_type": "code",
   "execution_count": 15,
   "metadata": {
    "scrolled": true
   },
   "outputs": [
    {
     "data": {
      "text/html": [
       "<div>\n",
       "<style scoped>\n",
       "    .dataframe tbody tr th:only-of-type {\n",
       "        vertical-align: middle;\n",
       "    }\n",
       "\n",
       "    .dataframe tbody tr th {\n",
       "        vertical-align: top;\n",
       "    }\n",
       "\n",
       "    .dataframe thead th {\n",
       "        text-align: right;\n",
       "    }\n",
       "</style>\n",
       "<table border=\"1\" class=\"dataframe\">\n",
       "  <thead>\n",
       "    <tr style=\"text-align: right;\">\n",
       "      <th></th>\n",
       "      <th>video_id</th>\n",
       "      <th>title</th>\n",
       "      <th>channel_title</th>\n",
       "      <th>category_id</th>\n",
       "      <th>tags</th>\n",
       "      <th>views</th>\n",
       "      <th>likes</th>\n",
       "      <th>dislikes</th>\n",
       "      <th>comment_total</th>\n",
       "      <th>thumbnail_link</th>\n",
       "      <th>date</th>\n",
       "    </tr>\n",
       "  </thead>\n",
       "  <tbody>\n",
       "    <tr>\n",
       "      <th>0</th>\n",
       "      <td>XpVt6Z1Gjjo</td>\n",
       "      <td>1 YEAR OF VLOGGING -- HOW LOGAN PAUL CHANGED Y...</td>\n",
       "      <td>Logan Paul Vlogs</td>\n",
       "      <td>24</td>\n",
       "      <td>logan paul vlog|logan paul|logan|paul|olympics...</td>\n",
       "      <td>4394029</td>\n",
       "      <td>320053</td>\n",
       "      <td>5931</td>\n",
       "      <td>46245</td>\n",
       "      <td>https://i.ytimg.com/vi/XpVt6Z1Gjjo/default.jpg</td>\n",
       "      <td>13.09</td>\n",
       "    </tr>\n",
       "    <tr>\n",
       "      <th>1</th>\n",
       "      <td>K4wEI5zhHB0</td>\n",
       "      <td>iPhone X — Introducing iPhone X — Apple</td>\n",
       "      <td>Apple</td>\n",
       "      <td>28</td>\n",
       "      <td>Apple|iPhone 10|iPhone Ten|iPhone|Portrait Lig...</td>\n",
       "      <td>7860119</td>\n",
       "      <td>185853</td>\n",
       "      <td>26679</td>\n",
       "      <td>0</td>\n",
       "      <td>https://i.ytimg.com/vi/K4wEI5zhHB0/default.jpg</td>\n",
       "      <td>13.09</td>\n",
       "    </tr>\n",
       "  </tbody>\n",
       "</table>\n",
       "</div>"
      ],
      "text/plain": [
       "      video_id                                              title  \\\n",
       "0  XpVt6Z1Gjjo  1 YEAR OF VLOGGING -- HOW LOGAN PAUL CHANGED Y...   \n",
       "1  K4wEI5zhHB0            iPhone X — Introducing iPhone X — Apple   \n",
       "\n",
       "      channel_title  category_id  \\\n",
       "0  Logan Paul Vlogs           24   \n",
       "1             Apple           28   \n",
       "\n",
       "                                                tags    views   likes  \\\n",
       "0  logan paul vlog|logan paul|logan|paul|olympics...  4394029  320053   \n",
       "1  Apple|iPhone 10|iPhone Ten|iPhone|Portrait Lig...  7860119  185853   \n",
       "\n",
       "   dislikes  comment_total                                  thumbnail_link  \\\n",
       "0      5931          46245  https://i.ytimg.com/vi/XpVt6Z1Gjjo/default.jpg   \n",
       "1     26679              0  https://i.ytimg.com/vi/K4wEI5zhHB0/default.jpg   \n",
       "\n",
       "    date  \n",
       "0  13.09  \n",
       "1  13.09  "
      ]
     },
     "execution_count": 15,
     "metadata": {},
     "output_type": "execute_result"
    }
   ],
   "source": [
    "df_youtube = pd.read_csv(\"./data/USvideos.csv\")\n",
    "df_youtube.head(2)"
   ]
  },
  {
   "cell_type": "markdown",
   "metadata": {},
   "source": [
    "## Question 0"
   ]
  },
  {
   "cell_type": "markdown",
   "metadata": {},
   "source": [
    "### Netoyer les données"
   ]
  },
  {
   "cell_type": "code",
   "execution_count": 16,
   "metadata": {},
   "outputs": [],
   "source": [
    "\n",
    "df_youtube['date'] = pd.to_datetime(df_youtube['date'], errors='coerce')\n",
    "df_youtube = df_youtube.dropna(subset=['date'])\n",
    "\n",
    "\n",
    "df_youtube.rename(columns={'video_id':'_id'}, inplace=True)\n",
    "\n",
    "df_youtube = df_youtube.drop_duplicates(subset='_id', keep='last')\n",
    "\n",
    "l_d =df_youtube.to_dict(orient='records')\n",
    "\n",
    "import json\n",
    "with open('./data/US_category_id.json', 'r') as f:\n",
    "    categ = json.load(f)\n",
    "\n",
    "for video in l_d:\n",
    "    for cat in categ['items']:\n",
    "        if video['category_id'] == int(cat['id']):\n",
    "            video['category_name'] = cat['snippet']['title']\n",
    "            "
   ]
  },
  {
   "cell_type": "markdown",
   "metadata": {
    "slideshow": {
     "slide_type": "slide"
    }
   },
   "source": [
    "### Importer les données"
   ]
  },
  {
   "cell_type": "code",
   "execution_count": 17,
   "metadata": {},
   "outputs": [
    {
     "data": {
      "text/plain": [
       "<pymongo.results.InsertManyResult at 0x7f21c1020580>"
      ]
     },
     "execution_count": 17,
     "metadata": {},
     "output_type": "execute_result"
    }
   ],
   "source": [
    "collection.insert_many(l_d)"
   ]
  },
  {
   "cell_type": "markdown",
   "metadata": {},
   "source": [
    "## Question 1  "
   ]
  },
  {
   "cell_type": "code",
   "execution_count": 19,
   "metadata": {},
   "outputs": [
    {
     "data": {
      "text/plain": [
       "[{'_id': 'K4wEI5zhHB0',\n",
       "  'title': 'iPhone X — Introducing iPhone X — Apple',\n",
       "  'channel_title': 'Apple',\n",
       "  'category_id': 28,\n",
       "  'tags': 'Apple|iPhone 10|iPhone Ten|iPhone|Portrait Lighting|A11 Bionic|augmented reality|emoji|animoji|Face ID|Apple Pay|camera|smartphone',\n",
       "  'views': 19707391,\n",
       "  'likes': 381919,\n",
       "  'dislikes': 69465,\n",
       "  'comment_total': 0,\n",
       "  'thumbnail_link': 'https://i.ytimg.com/vi/K4wEI5zhHB0/default.jpg',\n",
       "  'date': datetime.datetime(1970, 1, 1, 0, 0),\n",
       "  'category_name': 'Science & Technology'},\n",
       " {'_id': 'A9k88sMyiJM',\n",
       "  'title': 'Apple Watch Series 3 + Apple Music — Roll — Apple',\n",
       "  'channel_title': 'Apple',\n",
       "  'category_id': 28,\n",
       "  'tags': 'Apple|airpods|apple watch|apple watch series 3|apple watch cellular|apple watch 4g|apple music|40 million songs on your wrist|apple skateboard ad|apple train station ad|apple roll ad|apple watch skateboard ad|apple watch train station ad|apple watch roll ad|airpods skateboard ad|airpods train station ad|airpods roll ad|apple music skateboard ad|apple music train station ad|apple music roll ad|misbehaving',\n",
       "  'views': 4112187,\n",
       "  'likes': 26609,\n",
       "  'dislikes': 8982,\n",
       "  'comment_total': 0,\n",
       "  'thumbnail_link': 'https://i.ytimg.com/vi/A9k88sMyiJM/default.jpg',\n",
       "  'date': datetime.datetime(1970, 1, 1, 0, 0),\n",
       "  'category_name': 'Science & Technology'},\n",
       " {'_id': 'REZl-ANYKKY',\n",
       "  'title': 'iPhone 8 Plus — Portraits of Her  — Apple',\n",
       "  'channel_title': 'Apple',\n",
       "  'category_id': 28,\n",
       "  'tags': 'Apple|new|iPhone|iPhone 8|iPhone 8 Plus|iOS 11|4.7-inch|5.5-inch|Portrait Lighting|Shot on iPhone|camera|iphonography|smartphone|This Strange Effect|The Shacks',\n",
       "  'views': 183325,\n",
       "  'likes': 1700,\n",
       "  'dislikes': 570,\n",
       "  'comment_total': 0,\n",
       "  'thumbnail_link': 'https://i.ytimg.com/vi/REZl-ANYKKY/default.jpg',\n",
       "  'date': datetime.datetime(1970, 1, 1, 0, 0),\n",
       "  'category_name': 'Science & Technology'}]"
      ]
     },
     "execution_count": 19,
     "metadata": {},
     "output_type": "execute_result"
    }
   ],
   "source": [
    "cur = collection.find({\"channel_title\" : \"Apple\"})\n",
    "list(cur)"
   ]
  },
  {
   "cell_type": "markdown",
   "metadata": {},
   "source": [
    "## Question 2"
   ]
  },
  {
   "cell_type": "code",
   "execution_count": 26,
   "metadata": {},
   "outputs": [
    {
     "name": "stdout",
     "output_type": "stream",
     "text": [
      "number of categories : 16\n"
     ]
    }
   ],
   "source": [
    "cur = collection.distinct(\"category_name\")\n",
    "print(\"number of categories :\", len(cur))"
   ]
  },
  {
   "cell_type": "markdown",
   "metadata": {},
   "source": [
    "## Question 3"
   ]
  },
  {
   "cell_type": "code",
   "execution_count": null,
   "metadata": {},
   "outputs": [],
   "source": []
  },
  {
   "cell_type": "markdown",
   "metadata": {},
   "source": [
    "## Question 4"
   ]
  },
  {
   "cell_type": "code",
   "execution_count": 27,
   "metadata": {},
   "outputs": [
    {
     "data": {
      "text/plain": [
       "[{'_id': 'MBdVXkSdhwU',\n",
       "  'title': \"BTS (방탄소년단) 'DNA' Official MV\",\n",
       "  'channel_title': 'ibighit',\n",
       "  'category_id': 10,\n",
       "  'tags': 'BIGHIT|빅히트|방탄소년단|BTS|BANGTAN|방탄',\n",
       "  'views': 41500672,\n",
       "  'likes': 2010366,\n",
       "  'dislikes': 78076,\n",
       "  'comment_total': 736179,\n",
       "  'thumbnail_link': 'https://i.ytimg.com/vi/MBdVXkSdhwU/default.jpg',\n",
       "  'date': datetime.datetime(1970, 1, 1, 0, 0),\n",
       "  'category_name': 'Music'},\n",
       " {'_id': 'tt2k8PGm-TI',\n",
       "  'title': 'ZAYN - Dusk Till Dawn ft. Sia',\n",
       "  'channel_title': 'ZaynVEVO',\n",
       "  'category_id': 10,\n",
       "  'tags': 'Dusk Till Dawn|Pop|RCA Records Label|ZAYN feat. Sia',\n",
       "  'views': 36323498,\n",
       "  'likes': 1431683,\n",
       "  'dislikes': 28049,\n",
       "  'comment_total': 100661,\n",
       "  'thumbnail_link': 'https://i.ytimg.com/vi/tt2k8PGm-TI/default.jpg',\n",
       "  'date': datetime.datetime(1970, 1, 1, 0, 0),\n",
       "  'category_name': 'Music'},\n",
       " {'_id': 'LunHybOKIjU',\n",
       "  'title': 'Eminem Rips Donald Trump In BET Hip Hop Awards Freestyle Cypher',\n",
       "  'channel_title': 'BETNetworks',\n",
       "  'category_id': 24,\n",
       "  'tags': 'BET|BET Networks|BET Music|Black Entertainment Television|eminem|freestyle|full|hip hop awards|hip hop awards 2017|bet hip hop awards|donald trump|potus|full freestyle|EMINEM TRUMP|TRUMP TWITTER|trump tweet|trump nfl|eminem bet cypher|bet cypher|eminem freestyle|8 mile|eminem new album|trump diss|eminem trump diss',\n",
       "  'views': 33191594,\n",
       "  'likes': 982842,\n",
       "  'dislikes': 184310,\n",
       "  'comment_total': 337603,\n",
       "  'thumbnail_link': 'https://i.ytimg.com/vi/LunHybOKIjU/default.jpg',\n",
       "  'date': datetime.datetime(1970, 1, 1, 0, 0),\n",
       "  'category_name': 'Entertainment'},\n",
       " {'_id': 'SHq2qrFUlGY',\n",
       "  'title': 'Shakira - Perro Fiel (Official Video) ft. Nicky Jam',\n",
       "  'channel_title': 'shakiraVEVO',\n",
       "  'category_id': 10,\n",
       "  'tags': 'Shakira ft. Nicky Jam|Shakira ft. Nicky Jam Music|Shakira ft. Nicky Jam Official Video|Shakira ft. Nicky Jam Video|Shakira ft. Nicky Jam Video Oficial|Perro Fiel Official Video|Official Video|Perro Fiel Single|Single|Shakira ft. Nicky Jam New Single|Shakira ft. Nicky Jam Single|Shakira ft. Nicky Jam Song|Perro Fiel new song|Perro Fiel nueva canción|Shakira ft. Nicky Jam nuevo sencillo|Shakira ft. Nicky Jam Perro Fiel|Latin Pop',\n",
       "  'views': 32136948,\n",
       "  'likes': 578266,\n",
       "  'dislikes': 43475,\n",
       "  'comment_total': 40071,\n",
       "  'thumbnail_link': 'https://i.ytimg.com/vi/SHq2qrFUlGY/default.jpg',\n",
       "  'date': datetime.datetime(1970, 1, 1, 0, 0),\n",
       "  'category_name': 'Music'},\n",
       " {'_id': 'Q0CbN8sfihY',\n",
       "  'title': 'Star Wars: The Last Jedi Trailer (Official)',\n",
       "  'channel_title': 'Star Wars',\n",
       "  'category_id': 24,\n",
       "  'tags': 'star wars|the last jedi|trailer|official trailer|rey|kylo ren|luke skywalker|movies|film|star wars VIII|star wars the last jedi|rian johnson|daisy ridley|john boyega|adam driver|carrie fisher|mark hamill|episode 8|episode viii',\n",
       "  'views': 27909589,\n",
       "  'likes': 631087,\n",
       "  'dislikes': 22177,\n",
       "  'comment_total': 101673,\n",
       "  'thumbnail_link': 'https://i.ytimg.com/vi/Q0CbN8sfihY/default.jpg',\n",
       "  'date': datetime.datetime(1970, 1, 1, 0, 0),\n",
       "  'category_name': 'Entertainment'},\n",
       " {'_id': 'K4wEI5zhHB0',\n",
       "  'title': 'iPhone X — Introducing iPhone X — Apple',\n",
       "  'channel_title': 'Apple',\n",
       "  'category_id': 28,\n",
       "  'tags': 'Apple|iPhone 10|iPhone Ten|iPhone|Portrait Lighting|A11 Bionic|augmented reality|emoji|animoji|Face ID|Apple Pay|camera|smartphone',\n",
       "  'views': 19707391,\n",
       "  'likes': 381919,\n",
       "  'dislikes': 69465,\n",
       "  'comment_total': 0,\n",
       "  'thumbnail_link': 'https://i.ytimg.com/vi/K4wEI5zhHB0/default.jpg',\n",
       "  'date': datetime.datetime(1970, 1, 1, 0, 0),\n",
       "  'category_name': 'Science & Technology'},\n",
       " {'_id': 'r9-DM9uBtVI',\n",
       "  'title': 'JUSTICE LEAGUE - Official Heroes Trailer',\n",
       "  'channel_title': 'Warner Bros. Pictures',\n",
       "  'category_id': 24,\n",
       "  'tags': 'justice league|justice league movie|batman|wonder woman|cyborg|the flash|aquaman|dc comics|comics|superheros|dc entertainment|jason momoa|zack snyder|gal gadot|ben affleck|ray fisher|ezra miller|warner bros pictures|wb pictures',\n",
       "  'views': 19194567,\n",
       "  'likes': 298938,\n",
       "  'dislikes': 16124,\n",
       "  'comment_total': 56329,\n",
       "  'thumbnail_link': 'https://i.ytimg.com/vi/r9-DM9uBtVI/default.jpg',\n",
       "  'date': datetime.datetime(1970, 1, 1, 0, 0),\n",
       "  'category_name': 'Entertainment'},\n",
       " {'_id': '3y5A4paFOb4',\n",
       "  'title': 'Logan Paul - Outta My Hair [Official Music Video]',\n",
       "  'channel_title': 'Logan Paul Vlogs',\n",
       "  'category_id': 24,\n",
       "  'tags': 'logan paul vlog|logan paul|logan|paul|olympics|logan paul youtube|vlog|daily|comedy|hollywood|parrot|maverick|bird|maverick clothes|logan paul song|out of my hair|outa my hair|out of my hair song|logan paul music|bella thorne|logan paul bella thorne|bella thorne song|bella thorne hair|hair song|out of hair|out of hair song|music video|music videos|bella thorne music',\n",
       "  'views': 18809766,\n",
       "  'likes': 1075133,\n",
       "  'dislikes': 107386,\n",
       "  'comment_total': 143156,\n",
       "  'thumbnail_link': 'https://i.ytimg.com/vi/3y5A4paFOb4/default.jpg',\n",
       "  'date': datetime.datetime(1970, 1, 1, 0, 0),\n",
       "  'category_name': 'Entertainment'},\n",
       " {'_id': 'GO6qs83CHpc',\n",
       "  'title': \"Sneaky toddler steals Prince Harry's popcorn\",\n",
       "  'channel_title': 'The Royal Family Channel',\n",
       "  'category_id': 25,\n",
       "  'tags': 'prince harry|popcorn|poacher|girl|emily henson|toddler|two-year-old|child|royal|invictus games|kid steals popcorn|prince harry popcorn|girl steals popcorn',\n",
       "  'views': 15952413,\n",
       "  'likes': 61765,\n",
       "  'dislikes': 7112,\n",
       "  'comment_total': 6799,\n",
       "  'thumbnail_link': 'https://i.ytimg.com/vi/GO6qs83CHpc/default.jpg',\n",
       "  'date': datetime.datetime(1970, 1, 1, 0, 0),\n",
       "  'category_name': 'News & Politics'},\n",
       " {'_id': 'D59v74k5flU',\n",
       "  'title': 'Primitive Technology: Mud Bricks',\n",
       "  'channel_title': 'Primitive Technology',\n",
       "  'category_id': 22,\n",
       "  'tags': '[none]',\n",
       "  'views': 15579127,\n",
       "  'likes': 348653,\n",
       "  'dislikes': 8496,\n",
       "  'comment_total': 36857,\n",
       "  'thumbnail_link': 'https://i.ytimg.com/vi/D59v74k5flU/default.jpg',\n",
       "  'date': datetime.datetime(1970, 1, 1, 0, 0),\n",
       "  'category_name': 'People & Blogs'}]"
      ]
     },
     "execution_count": 27,
     "metadata": {},
     "output_type": "execute_result"
    }
   ],
   "source": [
    "cur = collection.find().sort([('views',-1)]).limit(10)\n",
    "list(cur)"
   ]
  },
  {
   "cell_type": "markdown",
   "metadata": {},
   "source": [
    "## Question 5"
   ]
  },
  {
   "cell_type": "code",
   "execution_count": 29,
   "metadata": {},
   "outputs": [
    {
     "data": {
      "text/plain": [
       "[{'_id': 'People & Blogs', 'view average :': 892992.28515625},\n",
       " {'_id': 'Education', 'view average :': 550585.2659574468},\n",
       " {'_id': 'Gaming', 'view average :': 777213.0357142857},\n",
       " {'_id': 'Music', 'view average :': 1442240.943283582},\n",
       " {'_id': 'Film & Animation', 'view average :': 966547.2871287129},\n",
       " {'_id': 'Sports', 'view average :': 618074.711409396},\n",
       " {'_id': 'News & Politics', 'view average :': 533575.1262626263},\n",
       " {'_id': 'Pets & Animals', 'view average :': 633906.4210526316},\n",
       " {'_id': 'Comedy', 'view average :': 1317200.7289719626},\n",
       " {'_id': 'Autos & Vehicles', 'view average :': 622727.8648648649},\n",
       " {'_id': 'Nonprofits & Activism', 'view average :': 681178.2},\n",
       " {'_id': 'Shows', 'view average :': 8726.0},\n",
       " {'_id': 'Howto & Style', 'view average :': 556002.6679389313},\n",
       " {'_id': 'Science & Technology', 'view average :': 861563.6158940397},\n",
       " {'_id': 'Travel & Events', 'view average :': 426492.22222222225},\n",
       " {'_id': 'Entertainment', 'view average :': 1059427.7735849055}]"
      ]
     },
     "execution_count": 29,
     "metadata": {},
     "output_type": "execute_result"
    }
   ],
   "source": [
    "cur = collection.aggregate([{\"$group\" : {\"_id\" : \"$category_name\", \"view average :\" : {\"$avg\" : \"$views\"}}}])\n",
    "list(cur)"
   ]
  },
  {
   "cell_type": "markdown",
   "metadata": {},
   "source": [
    "## Question 6 "
   ]
  },
  {
   "cell_type": "code",
   "execution_count": null,
   "metadata": {},
   "outputs": [],
   "source": []
  },
  {
   "cell_type": "code",
   "execution_count": null,
   "metadata": {},
   "outputs": [],
   "source": []
  }
 ],
 "metadata": {
  "kernelspec": {
   "display_name": "Python 3",
   "language": "python",
   "name": "python3"
  },
  "language_info": {
   "codemirror_mode": {
    "name": "ipython",
    "version": 3
   },
   "file_extension": ".py",
   "mimetype": "text/x-python",
   "name": "python",
   "nbconvert_exporter": "python",
   "pygments_lexer": "ipython3",
   "version": "3.8.8"
  }
 },
 "nbformat": 4,
 "nbformat_minor": 2
}
